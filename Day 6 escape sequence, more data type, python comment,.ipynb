{
 "cells": [
  {
   "cell_type": "markdown",
   "id": "7db88ec1",
   "metadata": {},
   "source": [
    "# Comments and Inline Comments"
   ]
  },
  {
   "cell_type": "code",
   "execution_count": 39,
   "id": "b5b8eaef",
   "metadata": {},
   "outputs": [
    {
     "name": "stdout",
     "output_type": "stream",
     "text": [
      "c2\n"
     ]
    }
   ],
   "source": [
    "#Comments are used for write our thought\n",
    "a = 'c2'#this is my class 12 commerece \n",
    "print(a)"
   ]
  },
  {
   "cell_type": "code",
   "execution_count": null,
   "id": "b86b6866",
   "metadata": {},
   "outputs": [],
   "source": []
  },
  {
   "cell_type": "markdown",
   "id": "e26a4f07",
   "metadata": {},
   "source": [
    "# Multiline Comment"
   ]
  },
  {
   "cell_type": "code",
   "execution_count": 41,
   "id": "a4101a3d",
   "metadata": {},
   "outputs": [
    {
     "name": "stdout",
     "output_type": "stream",
     "text": [
      "hello\n"
     ]
    }
   ],
   "source": [
    "#sometime we want to describe more so we use multiline comment\n",
    "'''\n",
    "shfjkashkjfhasjhfajkshfjah\n",
    "ashfjjakshfjkashkjh\n",
    "asjfklsajfjaskj\n",
    "\n",
    "'''\n",
    "print('hello')"
   ]
  },
  {
   "cell_type": "code",
   "execution_count": null,
   "id": "fc824034",
   "metadata": {},
   "outputs": [],
   "source": []
  },
  {
   "cell_type": "markdown",
   "id": "1bde8fa0",
   "metadata": {},
   "source": [
    "# Escape Sequences"
   ]
  },
  {
   "cell_type": "code",
   "execution_count": 43,
   "id": "f3ee23f5",
   "metadata": {},
   "outputs": [
    {
     "name": "stdout",
     "output_type": "stream",
     "text": [
      "hello my name is sanchit i am 23 years old\n",
      "i am 23 years old\n"
     ]
    }
   ],
   "source": [
    "print('hello my name is sanchit i am 23 years old')\n",
    "print('i am 23 years old')"
   ]
  },
  {
   "cell_type": "code",
   "execution_count": 44,
   "id": "0f901a0d",
   "metadata": {},
   "outputs": [
    {
     "name": "stdout",
     "output_type": "stream",
     "text": [
      "hello my name is sanchit \n",
      "i am 23 years old\n"
     ]
    }
   ],
   "source": [
    "print('hello my name is sanchit \\ni am 23 years old')\n"
   ]
  },
  {
   "cell_type": "code",
   "execution_count": 46,
   "id": "fbb2ce40",
   "metadata": {},
   "outputs": [
    {
     "name": "stdout",
     "output_type": "stream",
     "text": [
      "hello my name is sanchit \ti am 23 years old\n"
     ]
    }
   ],
   "source": [
    "print('hello my name is sanchit \\ti am 23 years old')"
   ]
  },
  {
   "cell_type": "code",
   "execution_count": 50,
   "id": "9e85aae3",
   "metadata": {},
   "outputs": [
    {
     "name": "stdout",
     "output_type": "stream",
     "text": [
      "hello you are \"good\"\n"
     ]
    }
   ],
   "source": [
    "print('hello you are \"good\"')"
   ]
  },
  {
   "cell_type": "markdown",
   "id": "5d90447b",
   "metadata": {},
   "source": [
    "# More Data Types (dict, list, set and tuple)"
   ]
  },
  {
   "cell_type": "raw",
   "id": "93e207fe",
   "metadata": {},
   "source": [
    "List:\n",
    "A list is an ordered collection of data with elements separated by a comma and enclosed within square brackets. Lists are mutable and can be modified after creation.\n",
    "\n"
   ]
  },
  {
   "cell_type": "code",
   "execution_count": 52,
   "id": "2bdcddcf",
   "metadata": {},
   "outputs": [
    {
     "name": "stdout",
     "output_type": "stream",
     "text": [
      "['sanchit', 'ruby', 'lakhan']\n",
      "<class 'list'>\n"
     ]
    }
   ],
   "source": [
    "a = ['sanchit','ruby','lakhan']\n",
    "print(a)\n",
    "print(type(a))"
   ]
  },
  {
   "cell_type": "raw",
   "id": "964c40f9",
   "metadata": {},
   "source": [
    "Tuple:\n",
    "    A tuple is an ordered collection of data with elements separated by a comma and enclosed within parentheses. Tuples are immutable and can not be modified after creation."
   ]
  },
  {
   "cell_type": "code",
   "execution_count": 55,
   "id": "8f1b07fc",
   "metadata": {},
   "outputs": [
    {
     "name": "stdout",
     "output_type": "stream",
     "text": [
      "('sanchit', 'ruby', 'lakhan')\n",
      "<class 'tuple'>\n"
     ]
    }
   ],
   "source": [
    "a = ('sanchit','ruby','lakhan')\n",
    "print(a)\n",
    "print(type(a))"
   ]
  },
  {
   "cell_type": "raw",
   "id": "29091c12",
   "metadata": {},
   "source": [
    "dict: \n",
    "A dictionary is an unordered collection of data containing a key:value pair. The key:value pairs are enclosed within curly brackets.\n",
    "\n"
   ]
  },
  {
   "cell_type": "code",
   "execution_count": 56,
   "id": "1e8cfdf2",
   "metadata": {},
   "outputs": [
    {
     "name": "stdout",
     "output_type": "stream",
     "text": [
      "{'Name': 'sanchit', 'Roll no': '2'}\n",
      "<class 'dict'>\n"
     ]
    }
   ],
   "source": [
    "b = {'Name':'sanchit','Roll no':'2'}\n",
    "print(b)\n",
    "print(type(b))"
   ]
  },
  {
   "cell_type": "code",
   "execution_count": null,
   "id": "ba30f5c0",
   "metadata": {},
   "outputs": [],
   "source": []
  },
  {
   "cell_type": "code",
   "execution_count": null,
   "id": "961bc125",
   "metadata": {},
   "outputs": [],
   "source": []
  },
  {
   "cell_type": "code",
   "execution_count": null,
   "id": "45fe54d6",
   "metadata": {},
   "outputs": [],
   "source": []
  }
 ],
 "metadata": {
  "kernelspec": {
   "display_name": "Python 3 (ipykernel)",
   "language": "python",
   "name": "python3"
  },
  "language_info": {
   "codemirror_mode": {
    "name": "ipython",
    "version": 3
   },
   "file_extension": ".py",
   "mimetype": "text/x-python",
   "name": "python",
   "nbconvert_exporter": "python",
   "pygments_lexer": "ipython3",
   "version": "3.11.5"
  }
 },
 "nbformat": 4,
 "nbformat_minor": 5
}
